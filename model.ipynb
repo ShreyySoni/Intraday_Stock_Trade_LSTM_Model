{
  "nbformat": 4,
  "nbformat_minor": 0,
  "metadata": {
    "colab": {
      "name": "NIFTY Stock Trading",
      "provenance": [],
      "collapsed_sections": []
    },
    "kernelspec": {
      "display_name": "Python 3",
      "name": "python3"
    },
    "language_info": {
      "name": "python"
    }
  },
  "cells": [
    {
      "cell_type": "code",
      "metadata": {
        "id": "JXx4d0_puuRd"
      },
      "source": [
        "import pandas as pd\n",
        "import numpy as np \n",
        "import matplotlib.pyplot as plt\n",
        "import math \n",
        "from keras.models import Sequential \n",
        "from keras.layers import Dense, LSTM\n",
        "from sklearn.preprocessing import MinMaxScaler\n",
        "import datetime"
      ],
      "execution_count": 1,
      "outputs": []
    },
    {
      "cell_type": "code",
      "metadata": {
        "colab": {
          "resources": {
            "http://localhost:8080/nbextensions/google.colab/files.js": {
              "data": "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",
              "ok": true,
              "headers": [
                [
                  "content-type",
                  "application/javascript"
                ]
              ],
              "status": 200,
              "status_text": ""
            }
          },
          "base_uri": "https://localhost:8080/",
          "height": 72
        },
        "id": "77aHa2ILvuZ0",
        "outputId": "802a89af-095d-4efc-d94a-d1a46dae1c70"
      },
      "source": [
        "from google.colab import files\n",
        "uploaded = files.upload()"
      ],
      "execution_count": 2,
      "outputs": [
        {
          "output_type": "display_data",
          "data": {
            "text/html": [
              "\n",
              "     <input type=\"file\" id=\"files-9da7330c-4260-458f-8f22-906202bb17cd\" name=\"files[]\" multiple disabled\n",
              "        style=\"border:none\" />\n",
              "     <output id=\"result-9da7330c-4260-458f-8f22-906202bb17cd\">\n",
              "      Upload widget is only available when the cell has been executed in the\n",
              "      current browser session. Please rerun this cell to enable.\n",
              "      </output>\n",
              "      <script src=\"/nbextensions/google.colab/files.js\"></script> "
            ],
            "text/plain": [
              "<IPython.core.display.HTML object>"
            ]
          },
          "metadata": {
            "tags": []
          }
        },
        {
          "output_type": "stream",
          "text": [
            "Saving NIFTY dataset.csv to NIFTY dataset.csv\n"
          ],
          "name": "stdout"
        }
      ]
    },
    {
      "cell_type": "code",
      "metadata": {
        "id": "qzBsj2Ttysbk"
      },
      "source": [
        "import io"
      ],
      "execution_count": 3,
      "outputs": []
    },
    {
      "cell_type": "code",
      "metadata": {
        "id": "T9fnywtry8bX"
      },
      "source": [
        "df = pd.read_csv(io.BytesIO(uploaded['NIFTY dataset.csv']))"
      ],
      "execution_count": 4,
      "outputs": []
    },
    {
      "cell_type": "code",
      "metadata": {
        "id": "BSjzqC0MzGu3",
        "colab": {
          "base_uri": "https://localhost:8080/",
          "height": 204
        },
        "outputId": "3f6e9d4f-b0fc-4f97-d3af-c5520319f5c7"
      },
      "source": [
        "df.head()"
      ],
      "execution_count": 5,
      "outputs": [
        {
          "output_type": "execute_result",
          "data": {
            "text/html": [
              "<div>\n",
              "<style scoped>\n",
              "    .dataframe tbody tr th:only-of-type {\n",
              "        vertical-align: middle;\n",
              "    }\n",
              "\n",
              "    .dataframe tbody tr th {\n",
              "        vertical-align: top;\n",
              "    }\n",
              "\n",
              "    .dataframe thead th {\n",
              "        text-align: right;\n",
              "    }\n",
              "</style>\n",
              "<table border=\"1\" class=\"dataframe\">\n",
              "  <thead>\n",
              "    <tr style=\"text-align: right;\">\n",
              "      <th></th>\n",
              "      <th>Type</th>\n",
              "      <th>Date</th>\n",
              "      <th>Time</th>\n",
              "      <th>open</th>\n",
              "      <th>high</th>\n",
              "      <th>low</th>\n",
              "      <th>close</th>\n",
              "    </tr>\n",
              "  </thead>\n",
              "  <tbody>\n",
              "    <tr>\n",
              "      <th>0</th>\n",
              "      <td>NIFTY</td>\n",
              "      <td>20210101</td>\n",
              "      <td>09:08</td>\n",
              "      <td>13996.10</td>\n",
              "      <td>13996.10</td>\n",
              "      <td>13996.10</td>\n",
              "      <td>13996.10</td>\n",
              "    </tr>\n",
              "    <tr>\n",
              "      <th>1</th>\n",
              "      <td>NIFTY</td>\n",
              "      <td>20210101</td>\n",
              "      <td>09:16</td>\n",
              "      <td>13997.90</td>\n",
              "      <td>14020.85</td>\n",
              "      <td>13991.35</td>\n",
              "      <td>14013.15</td>\n",
              "    </tr>\n",
              "    <tr>\n",
              "      <th>2</th>\n",
              "      <td>NIFTY</td>\n",
              "      <td>20210101</td>\n",
              "      <td>09:17</td>\n",
              "      <td>14014.85</td>\n",
              "      <td>14018.55</td>\n",
              "      <td>14008.15</td>\n",
              "      <td>14009.05</td>\n",
              "    </tr>\n",
              "    <tr>\n",
              "      <th>3</th>\n",
              "      <td>NIFTY</td>\n",
              "      <td>20210101</td>\n",
              "      <td>09:18</td>\n",
              "      <td>14008.05</td>\n",
              "      <td>14013.10</td>\n",
              "      <td>14005.05</td>\n",
              "      <td>14012.70</td>\n",
              "    </tr>\n",
              "    <tr>\n",
              "      <th>4</th>\n",
              "      <td>NIFTY</td>\n",
              "      <td>20210101</td>\n",
              "      <td>09:19</td>\n",
              "      <td>14013.65</td>\n",
              "      <td>14019.10</td>\n",
              "      <td>14013.65</td>\n",
              "      <td>14016.20</td>\n",
              "    </tr>\n",
              "  </tbody>\n",
              "</table>\n",
              "</div>"
            ],
            "text/plain": [
              "    Type      Date   Time      open      high       low     close\n",
              "0  NIFTY  20210101  09:08  13996.10  13996.10  13996.10  13996.10\n",
              "1  NIFTY  20210101  09:16  13997.90  14020.85  13991.35  14013.15\n",
              "2  NIFTY  20210101  09:17  14014.85  14018.55  14008.15  14009.05\n",
              "3  NIFTY  20210101  09:18  14008.05  14013.10  14005.05  14012.70\n",
              "4  NIFTY  20210101  09:19  14013.65  14019.10  14013.65  14016.20"
            ]
          },
          "metadata": {
            "tags": []
          },
          "execution_count": 5
        }
      ]
    },
    {
      "cell_type": "code",
      "metadata": {
        "id": "XuuPubgGzJ83",
        "colab": {
          "base_uri": "https://localhost:8080/"
        },
        "outputId": "3b651b0f-a273-499d-bb43-421f3151173f"
      },
      "source": [
        "df['Date'].dtype"
      ],
      "execution_count": 6,
      "outputs": [
        {
          "output_type": "execute_result",
          "data": {
            "text/plain": [
              "dtype('int64')"
            ]
          },
          "metadata": {
            "tags": []
          },
          "execution_count": 6
        }
      ]
    },
    {
      "cell_type": "code",
      "metadata": {
        "id": "Ay3wg-0rhfYz",
        "colab": {
          "base_uri": "https://localhost:8080/"
        },
        "outputId": "e7b37e4a-1f91-4348-cc3b-58f53db243cb"
      },
      "source": [
        "df.isnull().sum()"
      ],
      "execution_count": 7,
      "outputs": [
        {
          "output_type": "execute_result",
          "data": {
            "text/plain": [
              "Type     0\n",
              "Date     0\n",
              "Time     0\n",
              "open     0\n",
              "high     0\n",
              "low      0\n",
              "close    0\n",
              "dtype: int64"
            ]
          },
          "metadata": {
            "tags": []
          },
          "execution_count": 7
        }
      ]
    },
    {
      "cell_type": "code",
      "metadata": {
        "id": "F91PXvdZ05nH",
        "colab": {
          "base_uri": "https://localhost:8080/"
        },
        "outputId": "cce249dc-3f2f-4fa1-f9ef-96e24122fde1"
      },
      "source": [
        "df.shape"
      ],
      "execution_count": 8,
      "outputs": [
        {
          "output_type": "execute_result",
          "data": {
            "text/plain": [
              "(22806, 7)"
            ]
          },
          "metadata": {
            "tags": []
          },
          "execution_count": 8
        }
      ]
    },
    {
      "cell_type": "code",
      "metadata": {
        "id": "e1M7QrYO1MOB",
        "colab": {
          "base_uri": "https://localhost:8080/",
          "height": 475
        },
        "outputId": "37f0099f-0d34-4277-ce82-c9e965b04432"
      },
      "source": [
        "#Vizualizing the closing price history\n",
        "plt.figure(figsize=(15,7))\n",
        "plt.title('Close Price History')\n",
        "plt.plot(df['close'])\n",
        "plt.xlabel('Date')\n",
        "plt.ylabel('Close Price (in Rs.)')"
      ],
      "execution_count": 9,
      "outputs": [
        {
          "output_type": "execute_result",
          "data": {
            "text/plain": [
              "Text(0, 0.5, 'Close Price (in Rs.)')"
            ]
          },
          "metadata": {
            "tags": []
          },
          "execution_count": 9
        },
        {
          "output_type": "display_data",
          "data": {
            "image/png": "[encoded data removed]",
            "text/plain": [
              "<Figure size 1080x504 with 1 Axes>"
            ]
          },
          "metadata": {
            "tags": [],
            "needs_background": "light"
          }
        }
      ]
    },
    {
      "cell_type": "code",
      "metadata": {
        "id": "KZZBR2nT2UQq",
        "colab": {
          "base_uri": "https://localhost:8080/"
        },
        "outputId": "3791ad9b-da10-4bcf-d28e-4cdfdb0f6fa5"
      },
      "source": [
        "#Creating a new dataframe with only close column\n",
        "data = df.filter(['close'])\n",
        "\n",
        "#Convert dataframe to numpy\n",
        "dataset = data.values\n",
        "\n",
        "training_data_len = math.ceil( len(dataset) * 0.65 )\n",
        "training_data_len"
      ],
      "execution_count": 10,
      "outputs": [
        {
          "output_type": "execute_result",
          "data": {
            "text/plain": [
              "14824"
            ]
          },
          "metadata": {
            "tags": []
          },
          "execution_count": 10
        }
      ]
    },
    {
      "cell_type": "code",
      "metadata": {
        "id": "5tZsrL293fi3",
        "colab": {
          "base_uri": "https://localhost:8080/"
        },
        "outputId": "7c2d17ce-4b79-4e22-e7b9-a7cb2bc5afd9"
      },
      "source": [
        "scaler = MinMaxScaler(feature_range=(0,1))\n",
        "scaled_data = scaler.fit_transform(dataset)\n",
        "scaled_data"
      ],
      "execution_count": 11,
      "outputs": [
        {
          "output_type": "execute_result",
          "data": {
            "text/plain": [
              "array([[0.21522382],\n",
              "       [0.22455401],\n",
              "       [0.22231039],\n",
              "       ...,\n",
              "       [0.59565503],\n",
              "       [0.59661267],\n",
              "       [0.59532669]])"
            ]
          },
          "metadata": {
            "tags": []
          },
          "execution_count": 11
        }
      ]
    },
    {
      "cell_type": "code",
      "metadata": {
        "id": "5g2AS5Fge8Km"
      },
      "source": [
        "time_step = 1"
      ],
      "execution_count": 12,
      "outputs": []
    },
    {
      "cell_type": "code",
      "metadata": {
        "id": "ovRbJr9e4iH4"
      },
      "source": [
        "#create scaled training dataset\n",
        "train_data = scaled_data[0:training_data_len, :]\n",
        "\n",
        "x_train = []\n",
        "y_train = []\n",
        "\n",
        "for i in range(time_step, len(train_data) ):\n",
        "  x_train.append(train_data[i-time_step:i, 0])\n",
        "  y_train.append(train_data[i, 0])"
      ],
      "execution_count": 13,
      "outputs": []
    },
    {
      "cell_type": "code",
      "metadata": {
        "id": "XX7-fok86tTO"
      },
      "source": [
        "#converting training data to numpy for using LSTM model\n",
        "x_train , y_train = np.array(x_train) , np.array(y_train)"
      ],
      "execution_count": 14,
      "outputs": []
    },
    {
      "cell_type": "code",
      "metadata": {
        "id": "2KdJPPUN7MjO",
        "colab": {
          "base_uri": "https://localhost:8080/"
        },
        "outputId": "fb95f598-5e15-45ca-f1cc-84996f481be4"
      },
      "source": [
        "#Reshape the data\n",
        "x_train = np.reshape(x_train , (x_train.shape[0], x_train.shape[1], 1))\n",
        "x_train.shape"
      ],
      "execution_count": 15,
      "outputs": [
        {
          "output_type": "execute_result",
          "data": {
            "text/plain": [
              "(14823, 1, 1)"
            ]
          },
          "metadata": {
            "tags": []
          },
          "execution_count": 15
        }
      ]
    },
    {
      "cell_type": "code",
      "metadata": {
        "id": "Kl9tUnOO75hs"
      },
      "source": [
        "#Creating the LSTM model\n",
        "model = Sequential()\n",
        "model.add(LSTM(50, return_sequences=True, input_shape=(x_train.shape[1],1) ))\n",
        "model.add(LSTM(50, return_sequences=True))\n",
        "model.add(LSTM(50))\n",
        "model.add(Dense(25))\n",
        "model.add(Dense(1))"
      ],
      "execution_count": 16,
      "outputs": []
    },
    {
      "cell_type": "code",
      "metadata": {
        "id": "9Nij0nFV8s6r"
      },
      "source": [
        "model.compile( optimizer = 'adam', loss = 'mean_squared_error')"
      ],
      "execution_count": 17,
      "outputs": []
    },
    {
      "cell_type": "code",
      "metadata": {
        "id": "8poLbzbT891s",
        "colab": {
          "base_uri": "https://localhost:8080/"
        },
        "outputId": "bff34cd6-8e71-4eed-88a7-d002579eeaf8"
      },
      "source": [
        "#Training the model\n",
        "model.fit(x_train, y_train, batch_size= 10, epochs= 100)"
      ],
      "execution_count": 25,
      "outputs": [
        {
          "output_type": "stream",
          "text": [
            "Epoch 1/100\n",
            "1483/1483 [==============================] - 7s 5ms/step - loss: 3.6170e-05\n",
            "Epoch 2/100\n",
            "1483/1483 [==============================] - 7s 5ms/step - loss: 3.1523e-05\n",
            "Epoch 3/100\n",
            "1483/1483 [==============================] - 7s 5ms/step - loss: 3.4244e-05\n",
            "Epoch 4/100\n",
            "1483/1483 [==============================] - 8s 6ms/step - loss: 3.4502e-05\n",
            "Epoch 5/100\n",
            "1483/1483 [==============================] - 7s 5ms/step - loss: 3.4589e-05\n",
            "Epoch 6/100\n",
            "1483/1483 [==============================] - 7s 5ms/step - loss: 3.4044e-05\n",
            "Epoch 7/100\n",
            "1483/1483 [==============================] - 7s 5ms/step - loss: 3.2284e-05\n",
            "Epoch 8/100\n",
            "1483/1483 [==============================] - 7s 5ms/step - loss: 3.3239e-05\n",
            "Epoch 9/100\n",
            "1483/1483 [==============================] - 7s 5ms/step - loss: 3.2550e-05\n",
            "Epoch 10/100\n",
            "1483/1483 [==============================] - 7s 5ms/step - loss: 3.1465e-05\n",
            "Epoch 11/100\n",
            "1483/1483 [==============================] - 7s 5ms/step - loss: 3.2498e-05\n",
            "Epoch 12/100\n",
            "1483/1483 [==============================] - 7s 5ms/step - loss: 3.2244e-05\n",
            "Epoch 13/100\n",
            "1483/1483 [==============================] - 7s 5ms/step - loss: 3.2896e-05\n",
            "Epoch 14/100\n",
            "1483/1483 [==============================] - 7s 5ms/step - loss: 3.2297e-05\n",
            "Epoch 15/100\n",
            "1483/1483 [==============================] - 7s 5ms/step - loss: 3.3035e-05\n",
            "Epoch 16/100\n",
            "1483/1483 [==============================] - 7s 5ms/step - loss: 3.2000e-05\n",
            "Epoch 17/100\n",
            "1483/1483 [==============================] - 7s 5ms/step - loss: 3.2725e-05\n",
            "Epoch 18/100\n",
            "1483/1483 [==============================] - 7s 5ms/step - loss: 3.7514e-05\n",
            "Epoch 19/100\n",
            "1483/1483 [==============================] - 7s 5ms/step - loss: 3.1745e-05\n",
            "Epoch 20/100\n",
            "1483/1483 [==============================] - 7s 5ms/step - loss: 3.3300e-05\n",
            "Epoch 21/100\n",
            "1483/1483 [==============================] - 7s 5ms/step - loss: 3.0268e-05\n",
            "Epoch 22/100\n",
            "1483/1483 [==============================] - 7s 5ms/step - loss: 3.1816e-05\n",
            "Epoch 23/100\n",
            "1483/1483 [==============================] - 7s 5ms/step - loss: 3.2506e-05\n",
            "Epoch 24/100\n",
            "1483/1483 [==============================] - 7s 5ms/step - loss: 3.3303e-05\n",
            "Epoch 25/100\n",
            "1483/1483 [==============================] - 7s 5ms/step - loss: 3.1881e-05\n",
            "Epoch 26/100\n",
            "1483/1483 [==============================] - 7s 5ms/step - loss: 3.1098e-05\n",
            "Epoch 27/100\n",
            "1483/1483 [==============================] - 7s 5ms/step - loss: 3.0361e-05\n",
            "Epoch 28/100\n",
            "1483/1483 [==============================] - 7s 5ms/step - loss: 3.1177e-05\n",
            "Epoch 29/100\n",
            "1483/1483 [==============================] - 7s 5ms/step - loss: 2.9347e-05\n",
            "Epoch 30/100\n",
            "1483/1483 [==============================] - 7s 5ms/step - loss: 3.0359e-05\n",
            "Epoch 31/100\n",
            "1483/1483 [==============================] - 7s 5ms/step - loss: 3.1761e-05\n",
            "Epoch 32/100\n",
            "1483/1483 [==============================] - 8s 5ms/step - loss: 2.9985e-05\n",
            "Epoch 33/100\n",
            "1483/1483 [==============================] - 7s 5ms/step - loss: 3.2256e-05\n",
            "Epoch 34/100\n",
            "1483/1483 [==============================] - 7s 5ms/step - loss: 3.1281e-05\n",
            "Epoch 35/100\n",
            "1483/1483 [==============================] - 7s 5ms/step - loss: 3.0691e-05\n",
            "Epoch 36/100\n",
            "1483/1483 [==============================] - 7s 5ms/step - loss: 3.1391e-05\n",
            "Epoch 37/100\n",
            "1483/1483 [==============================] - 7s 5ms/step - loss: 3.0236e-05\n",
            "Epoch 38/100\n",
            "1483/1483 [==============================] - 7s 5ms/step - loss: 3.0924e-05\n",
            "Epoch 39/100\n",
            "1483/1483 [==============================] - 7s 5ms/step - loss: 2.8888e-05\n",
            "Epoch 40/100\n",
            "1483/1483 [==============================] - 7s 5ms/step - loss: 3.0347e-05\n",
            "Epoch 41/100\n",
            "1483/1483 [==============================] - 7s 5ms/step - loss: 3.0858e-05\n",
            "Epoch 42/100\n",
            "1483/1483 [==============================] - 7s 5ms/step - loss: 2.9758e-05\n",
            "Epoch 43/100\n",
            "1483/1483 [==============================] - 7s 5ms/step - loss: 3.2204e-05\n",
            "Epoch 44/100\n",
            "1483/1483 [==============================] - 7s 5ms/step - loss: 3.0017e-05\n",
            "Epoch 45/100\n",
            "1483/1483 [==============================] - 7s 5ms/step - loss: 2.9692e-05\n",
            "Epoch 46/100\n",
            "1483/1483 [==============================] - 7s 5ms/step - loss: 3.1399e-05\n",
            "Epoch 47/100\n",
            "1483/1483 [==============================] - 7s 5ms/step - loss: 3.0247e-05\n",
            "Epoch 48/100\n",
            "1483/1483 [==============================] - 7s 5ms/step - loss: 3.1620e-05\n",
            "Epoch 49/100\n",
            "1483/1483 [==============================] - 7s 5ms/step - loss: 3.2160e-05\n",
            "Epoch 50/100\n",
            "1483/1483 [==============================] - 7s 5ms/step - loss: 3.0787e-05\n",
            "Epoch 51/100\n",
            "1483/1483 [==============================] - 7s 5ms/step - loss: 3.0119e-05\n",
            "Epoch 52/100\n",
            "1483/1483 [==============================] - 7s 5ms/step - loss: 3.1509e-05\n",
            "Epoch 53/100\n",
            "1483/1483 [==============================] - 7s 5ms/step - loss: 2.9856e-05\n",
            "Epoch 54/100\n",
            "1483/1483 [==============================] - 8s 5ms/step - loss: 3.0308e-05\n",
            "Epoch 55/100\n",
            "1483/1483 [==============================] - 8s 5ms/step - loss: 2.9520e-05\n",
            "Epoch 56/100\n",
            "1483/1483 [==============================] - 8s 5ms/step - loss: 3.0131e-05\n",
            "Epoch 57/100\n",
            "1483/1483 [==============================] - 8s 5ms/step - loss: 2.8475e-05\n",
            "Epoch 58/100\n",
            "1483/1483 [==============================] - 7s 5ms/step - loss: 3.0272e-05\n",
            "Epoch 59/100\n",
            "1483/1483 [==============================] - 8s 5ms/step - loss: 2.9799e-05\n",
            "Epoch 60/100\n",
            "1483/1483 [==============================] - 7s 5ms/step - loss: 2.9112e-05\n",
            "Epoch 61/100\n",
            "1483/1483 [==============================] - 7s 5ms/step - loss: 2.9003e-05\n",
            "Epoch 62/100\n",
            "1483/1483 [==============================] - 7s 5ms/step - loss: 2.8261e-05\n",
            "Epoch 63/100\n",
            "1483/1483 [==============================] - 7s 5ms/step - loss: 2.9062e-05\n",
            "Epoch 64/100\n",
            "1483/1483 [==============================] - 8s 5ms/step - loss: 2.8668e-05\n",
            "Epoch 65/100\n",
            "1483/1483 [==============================] - 7s 5ms/step - loss: 2.9686e-05\n",
            "Epoch 66/100\n",
            "1483/1483 [==============================] - 7s 5ms/step - loss: 2.9852e-05\n",
            "Epoch 67/100\n",
            "1483/1483 [==============================] - 7s 5ms/step - loss: 2.9741e-05\n",
            "Epoch 68/100\n",
            "1483/1483 [==============================] - 7s 5ms/step - loss: 2.9350e-05\n",
            "Epoch 69/100\n",
            "1483/1483 [==============================] - 7s 5ms/step - loss: 2.9486e-05\n",
            "Epoch 70/100\n",
            "1483/1483 [==============================] - 7s 5ms/step - loss: 2.8890e-05\n",
            "Epoch 71/100\n",
            "1483/1483 [==============================] - 7s 5ms/step - loss: 2.8985e-05\n",
            "Epoch 72/100\n",
            "1483/1483 [==============================] - 7s 5ms/step - loss: 2.8357e-05\n",
            "Epoch 73/100\n",
            "1483/1483 [==============================] - 8s 5ms/step - loss: 3.0842e-05\n",
            "Epoch 74/100\n",
            "1483/1483 [==============================] - 7s 5ms/step - loss: 3.0019e-05\n",
            "Epoch 75/100\n",
            "1483/1483 [==============================] - 8s 5ms/step - loss: 3.0130e-05\n",
            "Epoch 76/100\n",
            "1483/1483 [==============================] - 7s 5ms/step - loss: 2.8431e-05\n",
            "Epoch 77/100\n",
            "1483/1483 [==============================] - 8s 5ms/step - loss: 2.9668e-05\n",
            "Epoch 78/100\n",
            "1483/1483 [==============================] - 8s 5ms/step - loss: 2.8546e-05\n",
            "Epoch 79/100\n",
            "1483/1483 [==============================] - 8s 5ms/step - loss: 2.8649e-05\n",
            "Epoch 80/100\n",
            "1483/1483 [==============================] - 8s 5ms/step - loss: 2.8210e-05\n",
            "Epoch 81/100\n",
            "1483/1483 [==============================] - 8s 5ms/step - loss: 2.9731e-05\n",
            "Epoch 82/100\n",
            "1483/1483 [==============================] - 7s 5ms/step - loss: 2.9760e-05\n",
            "Epoch 83/100\n",
            "1483/1483 [==============================] - 8s 5ms/step - loss: 2.8679e-05\n",
            "Epoch 84/100\n",
            "1483/1483 [==============================] - 7s 5ms/step - loss: 2.8078e-05\n",
            "Epoch 85/100\n",
            "1483/1483 [==============================] - 8s 5ms/step - loss: 3.0376e-05\n",
            "Epoch 86/100\n",
            "1483/1483 [==============================] - 7s 5ms/step - loss: 2.8513e-05\n",
            "Epoch 87/100\n",
            "1483/1483 [==============================] - 7s 5ms/step - loss: 2.9149e-05\n",
            "Epoch 88/100\n",
            "1483/1483 [==============================] - 7s 5ms/step - loss: 2.8538e-05\n",
            "Epoch 89/100\n",
            "1483/1483 [==============================] - 8s 5ms/step - loss: 3.0068e-05\n",
            "Epoch 90/100\n",
            "1483/1483 [==============================] - 7s 5ms/step - loss: 2.8602e-05\n",
            "Epoch 91/100\n",
            "1483/1483 [==============================] - 8s 5ms/step - loss: 2.8363e-05\n",
            "Epoch 92/100\n",
            "1483/1483 [==============================] - 7s 5ms/step - loss: 2.9341e-05\n",
            "Epoch 93/100\n",
            "1483/1483 [==============================] - 8s 5ms/step - loss: 2.8483e-05\n",
            "Epoch 94/100\n",
            "1483/1483 [==============================] - 8s 5ms/step - loss: 2.8587e-05\n",
            "Epoch 95/100\n",
            "1483/1483 [==============================] - 8s 5ms/step - loss: 2.8532e-05\n",
            "Epoch 96/100\n",
            "1483/1483 [==============================] - 8s 5ms/step - loss: 2.8191e-05\n",
            "Epoch 97/100\n",
            "1483/1483 [==============================] - 8s 5ms/step - loss: 2.8612e-05\n",
            "Epoch 98/100\n",
            "1483/1483 [==============================] - 7s 5ms/step - loss: 2.8754e-05\n",
            "Epoch 99/100\n",
            "1483/1483 [==============================] - 7s 5ms/step - loss: 2.8303e-05\n",
            "Epoch 100/100\n",
            "1483/1483 [==============================] - 7s 5ms/step - loss: 2.8338e-05\n"
          ],
          "name": "stdout"
        },
        {
          "output_type": "execute_result",
          "data": {
            "text/plain": [
              "<tensorflow.python.keras.callbacks.History at 0x7f7e98c55f10>"
            ]
          },
          "metadata": {
            "tags": []
          },
          "execution_count": 25
        }
      ]
    },
    {
      "cell_type": "code",
      "metadata": {
        "id": "jf5aFgIk9N8X"
      },
      "source": [
        "#testing dataset\n",
        "test_data = scaled_data[training_data_len - time_step: , :]\n",
        "\n",
        "x_test = []\n",
        "y_test = dataset[training_data_len: , :]\n",
        "\n",
        "for i in range(time_step, len(test_data)):\n",
        "  x_test.append(test_data[i-time_step:i, 0])"
      ],
      "execution_count": 26,
      "outputs": []
    },
    {
      "cell_type": "code",
      "metadata": {
        "id": "yI8j9H88-BZl"
      },
      "source": [
        "#convert to numpy and reshape\n",
        "x_test = np.array(x_test)\n",
        "x_test = np.reshape(x_test, (x_test.shape[0], x_test.shape[1], 1))"
      ],
      "execution_count": 27,
      "outputs": []
    },
    {
      "cell_type": "code",
      "metadata": {
        "id": "eayGe_ao-QKs"
      },
      "source": [
        "#Model's predicted values\n",
        "predictions = model.predict(x_test)\n",
        "predictions = scaler.inverse_transform(predictions)"
      ],
      "execution_count": 28,
      "outputs": []
    },
    {
      "cell_type": "code",
      "metadata": {
        "id": "NGObATpG_Dv1",
        "colab": {
          "base_uri": "https://localhost:8080/"
        },
        "outputId": "f6df19eb-fcec-41c6-f341-59683c02ee8a"
      },
      "source": [
        "#Error\n",
        "rmse = np.sqrt((np.mean(predictions - y_test)**2))\n",
        "print(\"The error rate of the model is\", rmse)"
      ],
      "execution_count": 29,
      "outputs": [
        {
          "output_type": "stream",
          "text": [
            "The error rate of the model is 0.38309798119988636\n"
          ],
          "name": "stdout"
        }
      ]
    },
    {
      "cell_type": "code",
      "metadata": {
        "id": "kSQTkiFB_Vt_",
        "colab": {
          "base_uri": "https://localhost:8080/",
          "height": 580
        },
        "outputId": "cda77acc-b566-4aca-8bf5-11565446d5bd"
      },
      "source": [
        "train = data[:training_data_len]\n",
        "validation_dataset = data[training_data_len:]\n",
        "validation_dataset['Predictions'] = predictions\n",
        "\n",
        "plt.figure(figsize=(15,7))\n",
        "plt.title('Model')\n",
        "plt.xlabel('Date')\n",
        "plt.ylabel('Close Price (in Rs.)')\n",
        "plt.plot(train['close'])\n",
        "plt.plot(validation_dataset[['close','Predictions']])\n",
        "plt.legend(['Train', 'Validation' , 'Predictions'], loc= 'lower right')\n",
        "plt.show()"
      ],
      "execution_count": 30,
      "outputs": [
        {
          "output_type": "stream",
          "text": [
            "/usr/local/lib/python3.7/dist-packages/ipykernel_launcher.py:3: SettingWithCopyWarning: \n",
            "A value is trying to be set on a copy of a slice from a DataFrame.\n",
            "Try using .loc[row_indexer,col_indexer] = value instead\n",
            "\n",
            "See the caveats in the documentation: https://pandas.pydata.org/pandas-docs/stable/user_guide/indexing.html#returning-a-view-versus-a-copy\n",
            "  This is separate from the ipykernel package so we can avoid doing imports until\n"
          ],
          "name": "stderr"
        },
        {
          "output_type": "display_data",
          "data": {
            "image/png": "[encoded data removed]",
            "text/plain": [
              "<Figure size 1080x504 with 1 Axes>"
            ]
          },
          "metadata": {
            "tags": [],
            "needs_background": "light"
          }
        }
      ]
    },
    {
      "cell_type": "code",
      "metadata": {
        "id": "DZtx3ss6BdqE",
        "colab": {
          "base_uri": "https://localhost:8080/",
          "height": 419
        },
        "outputId": "51ea0758-7c43-458e-9806-eb65a07e963b"
      },
      "source": [
        "validation_dataset"
      ],
      "execution_count": 31,
      "outputs": [
        {
          "output_type": "execute_result",
          "data": {
            "text/html": [
              "<div>\n",
              "<style scoped>\n",
              "    .dataframe tbody tr th:only-of-type {\n",
              "        vertical-align: middle;\n",
              "    }\n",
              "\n",
              "    .dataframe tbody tr th {\n",
              "        vertical-align: top;\n",
              "    }\n",
              "\n",
              "    .dataframe thead th {\n",
              "        text-align: right;\n",
              "    }\n",
              "</style>\n",
              "<table border=\"1\" class=\"dataframe\">\n",
              "  <thead>\n",
              "    <tr style=\"text-align: right;\">\n",
              "      <th></th>\n",
              "      <th>close</th>\n",
              "      <th>Predictions</th>\n",
              "    </tr>\n",
              "  </thead>\n",
              "  <tbody>\n",
              "    <tr>\n",
              "      <th>14824</th>\n",
              "      <td>14681.75</td>\n",
              "      <td>14675.378906</td>\n",
              "    </tr>\n",
              "    <tr>\n",
              "      <th>14825</th>\n",
              "      <td>14679.45</td>\n",
              "      <td>14680.609375</td>\n",
              "    </tr>\n",
              "    <tr>\n",
              "      <th>14826</th>\n",
              "      <td>14684.70</td>\n",
              "      <td>14678.317383</td>\n",
              "    </tr>\n",
              "    <tr>\n",
              "      <th>14827</th>\n",
              "      <td>14676.45</td>\n",
              "      <td>14683.548828</td>\n",
              "    </tr>\n",
              "    <tr>\n",
              "      <th>14828</th>\n",
              "      <td>14679.20</td>\n",
              "      <td>14675.328125</td>\n",
              "    </tr>\n",
              "    <tr>\n",
              "      <th>...</th>\n",
              "      <td>...</td>\n",
              "      <td>...</td>\n",
              "    </tr>\n",
              "    <tr>\n",
              "      <th>22801</th>\n",
              "      <td>14690.60</td>\n",
              "      <td>14686.491211</td>\n",
              "    </tr>\n",
              "    <tr>\n",
              "      <th>22802</th>\n",
              "      <td>14689.30</td>\n",
              "      <td>14689.430664</td>\n",
              "    </tr>\n",
              "    <tr>\n",
              "      <th>22803</th>\n",
              "      <td>14691.30</td>\n",
              "      <td>14688.133789</td>\n",
              "    </tr>\n",
              "    <tr>\n",
              "      <th>22804</th>\n",
              "      <td>14693.05</td>\n",
              "      <td>14690.127930</td>\n",
              "    </tr>\n",
              "    <tr>\n",
              "      <th>22805</th>\n",
              "      <td>14690.70</td>\n",
              "      <td>14691.874023</td>\n",
              "    </tr>\n",
              "  </tbody>\n",
              "</table>\n",
              "<p>7982 rows × 2 columns</p>\n",
              "</div>"
            ],
            "text/plain": [
              "          close   Predictions\n",
              "14824  14681.75  14675.378906\n",
              "14825  14679.45  14680.609375\n",
              "14826  14684.70  14678.317383\n",
              "14827  14676.45  14683.548828\n",
              "14828  14679.20  14675.328125\n",
              "...         ...           ...\n",
              "22801  14690.60  14686.491211\n",
              "22802  14689.30  14689.430664\n",
              "22803  14691.30  14688.133789\n",
              "22804  14693.05  14690.127930\n",
              "22805  14690.70  14691.874023\n",
              "\n",
              "[7982 rows x 2 columns]"
            ]
          },
          "metadata": {
            "tags": []
          },
          "execution_count": 31
        }
      ]
    }
  ]
}